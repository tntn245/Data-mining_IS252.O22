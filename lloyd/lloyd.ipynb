{
 "cells": [
  {
   "cell_type": "code",
   "execution_count": 1,
   "metadata": {},
   "outputs": [
    {
     "name": "stdout",
     "output_type": "stream",
     "text": [
      "Collecting lloyd\n",
      "  Downloading lloyd-0.0.10.tar.gz (4.1 kB)\n",
      "  Preparing metadata (setup.py): started\n",
      "  Preparing metadata (setup.py): finished with status 'done'\n",
      "Requirement already satisfied: matplotlib>=2.0.0 in c:\\users\\my pc\\appdata\\local\\programs\\python\\python310\\lib\\site-packages (from lloyd) (3.5.1)\n",
      "Requirement already satisfied: numpy>=1.15.2 in c:\\users\\my pc\\appdata\\local\\programs\\python\\python310\\lib\\site-packages (from lloyd) (1.26.4)\n",
      "Requirement already satisfied: scikit-learn>=0.18.1 in c:\\users\\my pc\\appdata\\local\\programs\\python\\python310\\lib\\site-packages (from lloyd) (1.4.2)\n",
      "Requirement already satisfied: scipy>=1.1.0 in c:\\users\\my pc\\appdata\\local\\programs\\python\\python310\\lib\\site-packages (from lloyd) (1.11.4)\n",
      "Collecting umap-learn>=0.2.3\n",
      "  Downloading umap_learn-0.5.6-py3-none-any.whl (85 kB)\n",
      "     -------------------------------------- 85.7/85.7 kB 802.9 kB/s eta 0:00:00\n",
      "Requirement already satisfied: packaging>=20.0 in c:\\users\\my pc\\appdata\\local\\programs\\python\\python310\\lib\\site-packages (from matplotlib>=2.0.0->lloyd) (21.3)\n",
      "Requirement already satisfied: kiwisolver>=1.0.1 in c:\\users\\my pc\\appdata\\local\\programs\\python\\python310\\lib\\site-packages (from matplotlib>=2.0.0->lloyd) (1.3.2)\n",
      "Requirement already satisfied: fonttools>=4.22.0 in c:\\users\\my pc\\appdata\\local\\programs\\python\\python310\\lib\\site-packages (from matplotlib>=2.0.0->lloyd) (4.28.4)\n",
      "Requirement already satisfied: pillow>=6.2.0 in c:\\users\\my pc\\appdata\\local\\programs\\python\\python310\\lib\\site-packages (from matplotlib>=2.0.0->lloyd) (10.1.0)\n",
      "Requirement already satisfied: pyparsing>=2.2.1 in c:\\users\\my pc\\appdata\\local\\programs\\python\\python310\\lib\\site-packages (from matplotlib>=2.0.0->lloyd) (3.0.6)\n",
      "Requirement already satisfied: python-dateutil>=2.7 in c:\\users\\my pc\\appdata\\local\\programs\\python\\python310\\lib\\site-packages (from matplotlib>=2.0.0->lloyd) (2.8.2)\n",
      "Requirement already satisfied: cycler>=0.10 in c:\\users\\my pc\\appdata\\local\\programs\\python\\python310\\lib\\site-packages (from matplotlib>=2.0.0->lloyd) (0.11.0)\n",
      "Requirement already satisfied: joblib>=1.2.0 in c:\\users\\my pc\\appdata\\local\\programs\\python\\python310\\lib\\site-packages (from scikit-learn>=0.18.1->lloyd) (1.3.2)\n",
      "Requirement already satisfied: threadpoolctl>=2.0.0 in c:\\users\\my pc\\appdata\\local\\programs\\python\\python310\\lib\\site-packages (from scikit-learn>=0.18.1->lloyd) (3.0.0)\n",
      "Requirement already satisfied: tqdm in c:\\users\\my pc\\appdata\\local\\programs\\python\\python310\\lib\\site-packages (from umap-learn>=0.2.3->lloyd) (4.66.1)\n",
      "Collecting numba>=0.51.2\n",
      "  Downloading numba-0.59.1-cp310-cp310-win_amd64.whl (2.7 MB)\n",
      "     ---------------------------------------- 2.7/2.7 MB 1.5 MB/s eta 0:00:00\n"
     ]
    },
    {
     "name": "stderr",
     "output_type": "stream",
     "text": [
      "\n",
      "[notice] A new release of pip available: 22.2.2 -> 24.0\n",
      "[notice] To update, run: python.exe -m pip install --upgrade pip\n"
     ]
    },
    {
     "name": "stdout",
     "output_type": "stream",
     "text": [
      "Collecting pynndescent>=0.5\n",
      "  Downloading pynndescent-0.5.12-py3-none-any.whl (56 kB)\n",
      "     ---------------------------------------- 56.8/56.8 kB 1.5 MB/s eta 0:00:00\n",
      "Collecting llvmlite<0.43,>=0.42.0dev0\n",
      "  Downloading llvmlite-0.42.0-cp310-cp310-win_amd64.whl (28.1 MB)\n",
      "     ---------------------------------------- 28.1/28.1 MB 1.5 MB/s eta 0:00:00\n",
      "Requirement already satisfied: six>=1.5 in c:\\users\\my pc\\appdata\\local\\programs\\python\\python310\\lib\\site-packages (from python-dateutil>=2.7->matplotlib>=2.0.0->lloyd) (1.16.0)\n",
      "Requirement already satisfied: colorama in c:\\users\\my pc\\appdata\\local\\programs\\python\\python310\\lib\\site-packages (from tqdm->umap-learn>=0.2.3->lloyd) (0.4.4)\n",
      "Building wheels for collected packages: lloyd\n",
      "  Building wheel for lloyd (setup.py): started\n",
      "  Building wheel for lloyd (setup.py): finished with status 'done'\n",
      "  Created wheel for lloyd: filename=lloyd-0.0.10-py3-none-any.whl size=3546 sha256=3d1ee30f2b2c95f3271c239b4253c3e7db39b2b14020bc66783e52c83415818e\n",
      "  Stored in directory: c:\\users\\my pc\\appdata\\local\\pip\\cache\\wheels\\e3\\49\\72\\57a46b65a399ea19f5e74b91827915d88ffce4170d2307ded3\n",
      "Successfully built lloyd\n",
      "Installing collected packages: llvmlite, numba, pynndescent, umap-learn, lloyd\n",
      "Successfully installed lloyd-0.0.10 llvmlite-0.42.0 numba-0.59.1 pynndescent-0.5.12 umap-learn-0.5.6\n"
     ]
    }
   ],
   "source": [
    "!pip install lloyd"
   ]
  },
  {
   "cell_type": "code",
   "execution_count": null,
   "metadata": {},
   "outputs": [],
   "source": []
  }
 ],
 "metadata": {
  "kernelspec": {
   "display_name": "Python 3",
   "language": "python",
   "name": "python3"
  },
  "language_info": {
   "codemirror_mode": {
    "name": "ipython",
    "version": 3
   },
   "file_extension": ".py",
   "mimetype": "text/x-python",
   "name": "python",
   "nbconvert_exporter": "python",
   "pygments_lexer": "ipython3",
   "version": "3.10.1"
  }
 },
 "nbformat": 4,
 "nbformat_minor": 2
}
