{
 "cells": [
  {
   "cell_type": "code",
   "execution_count": 1,
   "metadata": {},
   "outputs": [],
   "source": [
    "from mlpack import kmeans"
   ]
  },
  {
   "cell_type": "code",
   "execution_count": 2,
   "metadata": {},
   "outputs": [],
   "source": [
    "import pandas as pd\n",
    "import time"
   ]
  },
  {
   "cell_type": "code",
   "execution_count": 3,
   "metadata": {},
   "outputs": [],
   "source": [
    "centroid = pd.read_csv('E:\\\\Year3\\\\Ser2\\\\Data_Mining\\\\dual_tree_kmeans\\\\data+centers\\\\centroids\\\\birch1.csv')\n",
    "data = pd.read_csv('E:\\\\Year3\\\\Ser2\\\\Data_Mining\\\\dual_tree_kmeans\\\\data+centers\\\\dataset\\\\birchdata.csv')"
   ]
  },
  {
   "cell_type": "code",
   "execution_count": 4,
   "metadata": {},
   "outputs": [],
   "source": [
    "start_time = time.time()\n",
    "model = kmeans(algorithm='dualtree', allow_empty_clusters=False,\n",
    "        check_input_matrices=False, clusters=0, copy_all_inputs=False,\n",
    "        in_place=False, initial_centroids=centroid, input_= data, kill_empty_clusters=False, kmeans_plus_plus=False,\n",
    "        labels_only=False, max_iterations=1000, percentage=0.02,\n",
    "        refined_start=False, samplings=100, seed=0, verbose=False)\n",
    "end_time = time.time()"
   ]
  },
  {
   "cell_type": "code",
   "execution_count": 5,
   "metadata": {},
   "outputs": [],
   "source": [
    "total_time = (end_time - start_time) * 1000  # Đổi từ giây sang mili giây\n",
    "# average_time_per_iteration = total_time / kmeans.n_iter_"
   ]
  },
  {
   "cell_type": "code",
   "execution_count": 6,
   "metadata": {},
   "outputs": [
    {
     "name": "stdout",
     "output_type": "stream",
     "text": [
      "103.59907150268555\n"
     ]
    }
   ],
   "source": [
    "print(total_time)"
   ]
  },
  {
   "cell_type": "code",
   "execution_count": 7,
   "metadata": {},
   "outputs": [
    {
     "name": "stdout",
     "output_type": "stream",
     "text": [
      "[[376809.27971701 425983.5277648 ]\n",
      " [749075.88431829 659431.66863658]\n",
      " [699602.65225029 271200.4869831 ]\n",
      " [338704.13700199 819534.2122012 ]]\n",
      "Initial Centroid:\n",
      "\n",
      "   610073.0  312260.0\n",
      "0  174663.0  319347.0\n",
      "1  860719.0  818276.0\n",
      "2  842261.0  300015.0\n",
      "3  144978.0  896934.0\n"
     ]
    }
   ],
   "source": [
    "new_centroid =  model['centroid']\n",
    "print(new_centroid)\n",
    "print(\"Initial Centroid:\\n\")\n",
    "print(centroid)"
   ]
  },
  {
   "cell_type": "code",
   "execution_count": 8,
   "metadata": {},
   "outputs": [
    {
     "name": "stdout",
     "output_type": "stream",
     "text": [
      "[[1.18415e+05 8.67117e+05 3.00000e+00]\n",
      " [1.18274e+05 9.02572e+05 3.00000e+00]\n",
      " [1.17577e+05 8.83724e+05 3.00000e+00]\n",
      " ...\n",
      " [9.16195e+05 9.11865e+05 1.00000e+00]\n",
      " [9.16203e+05 3.91940e+05 2.00000e+00]\n",
      " [9.16252e+05 4.85878e+05 1.00000e+00]]\n",
      "       118879.0  887164.0\n",
      "0      118415.0  867117.0\n",
      "1      118274.0  902572.0\n",
      "2      117577.0  883724.0\n",
      "3      117036.0  884249.0\n",
      "4      116601.0  902518.0\n",
      "...         ...       ...\n",
      "99994  916178.0  162826.0\n",
      "99995  916179.0  387247.0\n",
      "99996  916195.0  911865.0\n",
      "99997  916203.0  391940.0\n",
      "99998  916252.0  485878.0\n",
      "\n",
      "[99999 rows x 2 columns]\n"
     ]
    }
   ],
   "source": [
    "outout = model['output']\n",
    "print(outout)\n",
    "print(data)"
   ]
  }
 ],
 "metadata": {
  "kernelspec": {
   "display_name": "myenv",
   "language": "python",
   "name": "python3"
  },
  "language_info": {
   "codemirror_mode": {
    "name": "ipython",
    "version": 3
   },
   "file_extension": ".py",
   "mimetype": "text/x-python",
   "name": "python",
   "nbconvert_exporter": "python",
   "pygments_lexer": "ipython3",
   "version": "3.8.10"
  }
 },
 "nbformat": 4,
 "nbformat_minor": 2
}
